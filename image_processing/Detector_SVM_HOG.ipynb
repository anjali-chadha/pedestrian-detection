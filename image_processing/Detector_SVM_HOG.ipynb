{
 "cells": [
  {
   "cell_type": "markdown",
   "metadata": {},
   "source": [
    "## Pedestrian Detection using OpenCV inbuilt library\n",
    "Code Source\n",
    "https://www.pyimagesearch.com/2015/11/09/pedestrian-detection-opencv/"
   ]
  },
  {
   "cell_type": "code",
   "execution_count": 1,
   "metadata": {
    "collapsed": true
   },
   "outputs": [],
   "source": [
    "# import the necessary packages\n",
    "from __future__ import print_function\n",
    "from imutils.object_detection import non_max_suppression\n",
    "from imutils import paths\n",
    "import numpy as np\n",
    "import argparse\n",
    "import imutils\n",
    "import cv2\n",
    "import matplotlib.pyplot as plt\n",
    "from skvideo.io import FFmpegWriter "
   ]
  },
  {
   "cell_type": "markdown",
   "metadata": {},
   "source": [
    "## Detection on Video\n",
    "Output will be a video"
   ]
  },
  {
   "cell_type": "code",
   "execution_count": 8,
   "metadata": {
    "collapsed": true
   },
   "outputs": [],
   "source": [
    "import time\n",
    "\n",
    "def pedestrian_detection(input_video, outfile, fps=30):\n",
    "    vidcap = cv2.VideoCapture(input_video)\n",
    "   \n",
    "    writer = FFmpegWriter(outfile, outputdict={'-r': fps})\n",
    "    writer = FFmpegWriter(outfile)\n",
    "    \n",
    "    # initialize the HOG descriptor/person detector\n",
    "    hog = cv2.HOGDescriptor()\n",
    "    hog.setSVMDetector(cv2.HOGDescriptor_getDefaultPeopleDetector())\n",
    "    start_time = time.time()\n",
    "    i = 0\n",
    "    while True:\n",
    "        ret, image = vidcap.read()\n",
    "        if not ret: break\n",
    "        i += 1\n",
    "        image = imutils.resize(image, width=(image.shape[1]))\n",
    "        orig = image.copy()\n",
    "\n",
    "        # detect people in the image\n",
    "        (rects, weights) = hog.detectMultiScale(image, winStride=(4, 4), padding=(8, 8), scale=1.05)\n",
    "        \n",
    "        # draw the original bounding boxes\n",
    "        for (x, y, w, h) in rects:\n",
    "            cv2.rectangle(orig, (x, y), (x + w, y + h), (0, 0, 255), 2)\n",
    "\n",
    "        # apply non-maxima suppression to the bounding boxes using a\n",
    "        # fairly large overlap threshold to try to maintain overlapping\n",
    "        # boxes that are still people\n",
    "        rects = np.array([[x, y, x + w, y + h] for (x, y, w, h) in rects])\n",
    "        pick = non_max_suppression(rects, probs=None, overlapThresh=0.65)\n",
    "        \n",
    "        # draw the final bounding boxes\n",
    "        for (xA, yA, xB, yB) in pick:\n",
    "            cv2.rectangle(image, (xA, yA), (xB, yB), (0, 255, 0), 2)\n",
    "            print (\"Found human in frame\", i)\n",
    "        writer.writeFrame(image)\n",
    "    print(\"--- %s seconds ---\" % (time.time() - start_time))\n",
    "    writer.close()"
   ]
  },
  {
   "cell_type": "code",
   "execution_count": 9,
   "metadata": {},
   "outputs": [
    {
     "name": "stdout",
     "output_type": "stream",
     "text": [
      "Found human in frame 1\n",
      "Found human in frame 2\n",
      "Found human in frame 3\n",
      "Found human in frame 4\n",
      "Found human in frame 5\n",
      "Found human in frame 9\n",
      "Found human in frame 10\n",
      "Found human in frame 11\n",
      "Found human in frame 15\n",
      "Found human in frame 16\n",
      "Found human in frame 17\n",
      "Found human in frame 18\n",
      "Found human in frame 19\n",
      "Found human in frame 19\n",
      "Found human in frame 27\n",
      "Found human in frame 28\n",
      "Found human in frame 40\n",
      "Found human in frame 42\n",
      "Found human in frame 43\n",
      "Found human in frame 47\n",
      "Found human in frame 48\n",
      "Found human in frame 49\n",
      "Found human in frame 50\n",
      "Found human in frame 52\n",
      "Found human in frame 61\n",
      "Found human in frame 62\n",
      "Found human in frame 63\n",
      "Found human in frame 64\n",
      "Found human in frame 65\n",
      "Found human in frame 65\n",
      "Found human in frame 66\n",
      "Found human in frame 75\n",
      "Found human in frame 76\n",
      "Found human in frame 79\n",
      "Found human in frame 81\n",
      "Found human in frame 85\n",
      "Found human in frame 86\n",
      "Found human in frame 86\n",
      "Found human in frame 86\n",
      "Found human in frame 87\n",
      "Found human in frame 88\n",
      "Found human in frame 89\n",
      "Found human in frame 90\n",
      "Found human in frame 90\n",
      "Found human in frame 91\n",
      "Found human in frame 91\n",
      "Found human in frame 91\n",
      "Found human in frame 91\n",
      "Found human in frame 94\n",
      "Found human in frame 94\n",
      "Found human in frame 95\n",
      "Found human in frame 95\n",
      "Found human in frame 96\n",
      "Found human in frame 96\n",
      "Found human in frame 97\n",
      "Found human in frame 97\n",
      "Found human in frame 98\n",
      "Found human in frame 98\n",
      "Found human in frame 99\n",
      "Found human in frame 99\n",
      "Found human in frame 100\n",
      "Found human in frame 100\n",
      "Found human in frame 101\n",
      "Found human in frame 101\n",
      "Found human in frame 102\n",
      "Found human in frame 102\n",
      "Found human in frame 103\n",
      "Found human in frame 103\n",
      "Found human in frame 104\n",
      "Found human in frame 104\n",
      "Found human in frame 105\n",
      "Found human in frame 105\n",
      "Found human in frame 106\n",
      "Found human in frame 106\n",
      "Found human in frame 107\n",
      "Found human in frame 107\n",
      "Found human in frame 108\n",
      "Found human in frame 108\n",
      "Found human in frame 109\n",
      "Found human in frame 109\n",
      "Found human in frame 109\n",
      "Found human in frame 110\n",
      "--- 46.235268354415894 seconds ---\n"
     ]
    }
   ],
   "source": [
    "pedestrian_detection('../../videos/uber_trimmed.mp4', './opencv-ped-detect.mp4')"
   ]
  },
  {
   "cell_type": "markdown",
   "metadata": {},
   "source": [
    "## Detection on Images"
   ]
  },
  {
   "cell_type": "code",
   "execution_count": 4,
   "metadata": {
    "collapsed": true
   },
   "outputs": [],
   "source": [
    "#src = '../PedestrianPhotos-Orig/'\n",
    "#dest = '../PedestrainPhotos-Boxes/'\n",
    "\n",
    "src='../Frames/'\n",
    "dest='../FramesPed-Boxes/'\n",
    "# initialize the HOG descriptor/person detector\n",
    "hog = cv2.HOGDescriptor()\n",
    "hog.setSVMDetector(cv2.HOGDescriptor_getDefaultPeopleDetector())"
   ]
  },
  {
   "cell_type": "code",
   "execution_count": 3,
   "metadata": {
    "collapsed": true
   },
   "outputs": [],
   "source": [
    "def run_hog_detector(src, dest):\n",
    "    # loop over the image paths\n",
    "    for imagePath in src:\n",
    "        print (imagePath)\n",
    "        # load the image and resize it to (1) reduce detection time\n",
    "        # and (2) improve detection accuracy\n",
    "        image = cv2.imread(imagePath)\n",
    "        image = imutils.resize(image, width=min(400, image.shape[1]))\n",
    "        orig = image.copy()\n",
    "\n",
    "        # detect people in the image\n",
    "        (rects, weights) = hog.detectMultiScale(image, winStride=(4, 4),\n",
    "            padding=(8, 8), scale=1.05)\n",
    "\n",
    "        # draw the original bounding boxes\n",
    "        for (x, y, w, h) in rects:\n",
    "            cv2.rectangle(orig, (x, y), (x + w, y + h), (0, 0, 255), 2)\n",
    "\n",
    "        # apply non-maxima suppression to the bounding boxes using a\n",
    "        # fairly large overlap threshold to try to maintain overlapping\n",
    "        # boxes that are still people\n",
    "        rects = np.array([[x, y, x + w, y + h] for (x, y, w, h) in rects])\n",
    "        pick = non_max_suppression(rects, probs=None, overlapThresh=0.65)\n",
    "\n",
    "        # draw the final bounding boxes\n",
    "        for (xA, yA, xB, yB) in pick:\n",
    "            cv2.rectangle(image, (xA, yA), (xB, yB), (0, 255, 0), 2)\n",
    "\n",
    "        # show some information on the number of bounding boxes\n",
    "        filename = \"hog_\" + imagePath\n",
    "        print(\"[INFO] {}: {} original boxes, {} after suppression\".format(\n",
    "            filename, len(rects), len(pick)))\n",
    "\n",
    "        # show the output images\n",
    "        #cv2.imwrite('%s.jpg' %filename , image)\n",
    "        cv2.imwrite(('{0}{1}').format(dest, filename), image)"
   ]
  },
  {
   "cell_type": "code",
   "execution_count": 22,
   "metadata": {},
   "outputs": [
    {
     "name": "stdout",
     "output_type": "stream",
     "text": [
      "night_ped_5.jpg\n",
      "[INFO] hog_night_ped_5.jpg: 4 original boxes, 3 after suppression\n"
     ]
    }
   ],
   "source": [
    "run_hog_detector([\"night_ped_5.jpg\"], \"./\")"
   ]
  },
  {
   "cell_type": "markdown",
   "metadata": {},
   "source": [
    "## Convert the sequential images to video"
   ]
  },
  {
   "cell_type": "code",
   "execution_count": 10,
   "metadata": {
    "collapsed": true
   },
   "outputs": [],
   "source": [
    "def images_seq_to_video(input_folder, outfile, count, fps=30):\n",
    "    writer = FFmpegWriter(outfile, outputdict={'-r': fps})\n",
    "    writer = FFmpegWriter(outfile)\n",
    "    \n",
    "    for i in range(count):\n",
    "        image = input_folder + 'frame'+ str(i)+'.jpg'\n",
    "        f = cv2.imread(image)\n",
    "        plt.imshow(f)\n",
    "        writer.writeFrame(f)\n",
    "    writer.close()"
   ]
  },
  {
   "cell_type": "code",
   "execution_count": 11,
   "metadata": {},
   "outputs": [
    {
     "data": {
      "image/png": "[encoded data removed]",
      "text/plain": [
       "<Figure size 432x288 with 1 Axes>"
      ]
     },
     "metadata": {},
     "output_type": "display_data"
    }
   ],
   "source": [
    "input_folder = '../Frames/'\n",
    "outfile = 'uber_opencv_pedestrian_detection.mp4'\n",
    "images_seq_to_video(input_folder, outfile, 166)"
   ]
  },
  {
   "cell_type": "code",
   "execution_count": null,
   "metadata": {
    "collapsed": true
   },
   "outputs": [],
   "source": []
  }
 ],
 "metadata": {
  "kernelspec": {
   "display_name": "Python [conda env:puneet_keras_env]",
   "language": "python",
   "name": "conda-env-puneet_keras_env-py"
  },
  "language_info": {
   "codemirror_mode": {
    "name": "ipython",
    "version": 3
   },
   "file_extension": ".py",
   "mimetype": "text/x-python",
   "name": "python",
   "nbconvert_exporter": "python",
   "pygments_lexer": "ipython3",
   "version": "3.6.2"
  }
 },
 "nbformat": 4,
 "nbformat_minor": 2
}
